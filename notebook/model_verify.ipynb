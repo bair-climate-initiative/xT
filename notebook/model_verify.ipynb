{
 "cells": [
  {
   "cell_type": "code",
   "execution_count": 1,
   "metadata": {},
   "outputs": [
    {
     "name": "stderr",
     "output_type": "stream",
     "text": [
      "/home/tyler/miniconda3/envs/scalemae/lib/python3.9/site-packages/tqdm/auto.py:21: TqdmWarning: IProgress not found. Please update jupyter and ipywidgets. See https://ipywidgets.readthedocs.io/en/stable/user_install.html\n",
      "  from .autonotebook import tqdm as notebook_tqdm\n"
     ]
    }
   ],
   "source": [
    "import torch "
   ]
  },
  {
   "cell_type": "code",
   "execution_count": 2,
   "metadata": {},
   "outputs": [],
   "source": [
    "ckpt = torch.load(\"./revswinT_epoch299.pth\", map_location=torch.device('cpu'))"
   ]
  },
  {
   "cell_type": "code",
   "execution_count": 3,
   "metadata": {},
   "outputs": [
    {
     "data": {
      "text/plain": [
       "79.86799971679687"
      ]
     },
     "execution_count": 3,
     "metadata": {},
     "output_type": "execute_result"
    }
   ],
   "source": [
    "ckpt['max_accuracy']"
   ]
  },
  {
   "cell_type": "code",
   "execution_count": 4,
   "metadata": {},
   "outputs": [
    {
     "data": {
      "text/plain": [
       "dict_keys(['model', 'optimizer', 'lr_scheduler', 'max_accuracy', 'scaler', 'epoch', 'config'])"
      ]
     },
     "execution_count": 4,
     "metadata": {},
     "output_type": "execute_result"
    }
   ],
   "source": [
    "ckpt.keys()"
   ]
  },
  {
   "cell_type": "code",
   "execution_count": 7,
   "metadata": {},
   "outputs": [
    {
     "name": "stdout",
     "output_type": "stream",
     "text": [
      "patch_embed.proj.weight\n",
      "patch_embed.proj.bias\n",
      "patch_embed.norm.weight\n",
      "patch_embed.norm.bias\n",
      "layers.0.blocks.0.norm1.weight\n",
      "layers.0.blocks.0.norm1.bias\n",
      "layers.0.blocks.0.attn.relative_position_bias_table\n",
      "layers.0.blocks.0.attn.relative_position_index\n",
      "layers.0.blocks.0.attn.qkv.weight\n",
      "layers.0.blocks.0.attn.qkv.bias\n",
      "layers.0.blocks.0.attn.proj.weight\n",
      "layers.0.blocks.0.attn.proj.bias\n",
      "layers.0.blocks.0.norm2.weight\n",
      "layers.0.blocks.0.norm2.bias\n",
      "layers.0.blocks.0.mlp.fc1.weight\n",
      "layers.0.blocks.0.mlp.fc1.bias\n",
      "layers.0.blocks.0.mlp.fc2.weight\n",
      "layers.0.blocks.0.mlp.fc2.bias\n",
      "layers.0.blocks.1.norm1.weight\n",
      "layers.0.blocks.1.norm1.bias\n",
      "layers.0.blocks.1.attn.relative_position_bias_table\n",
      "layers.0.blocks.1.attn.relative_position_index\n",
      "layers.0.blocks.1.attn.qkv.weight\n",
      "layers.0.blocks.1.attn.qkv.bias\n",
      "layers.0.blocks.1.attn.proj.weight\n",
      "layers.0.blocks.1.attn.proj.bias\n",
      "layers.0.blocks.1.norm2.weight\n",
      "layers.0.blocks.1.norm2.bias\n",
      "layers.0.blocks.1.mlp.fc1.weight\n",
      "layers.0.blocks.1.mlp.fc1.bias\n",
      "layers.0.blocks.1.mlp.fc2.weight\n",
      "layers.0.blocks.1.mlp.fc2.bias\n",
      "layers.0.downsample.reduction.weight\n",
      "layers.0.downsample.norm.weight\n",
      "layers.0.downsample.norm.bias\n",
      "layers.1.blocks.0.norm1.weight\n",
      "layers.1.blocks.0.norm1.bias\n",
      "layers.1.blocks.0.attn.relative_position_bias_table\n",
      "layers.1.blocks.0.attn.relative_position_index\n",
      "layers.1.blocks.0.attn.qkv.weight\n",
      "layers.1.blocks.0.attn.qkv.bias\n",
      "layers.1.blocks.0.attn.proj.weight\n",
      "layers.1.blocks.0.attn.proj.bias\n",
      "layers.1.blocks.0.norm2.weight\n",
      "layers.1.blocks.0.norm2.bias\n",
      "layers.1.blocks.0.mlp.fc1.weight\n",
      "layers.1.blocks.0.mlp.fc1.bias\n",
      "layers.1.blocks.0.mlp.fc2.weight\n",
      "layers.1.blocks.0.mlp.fc2.bias\n",
      "layers.1.blocks.1.norm1.weight\n",
      "layers.1.blocks.1.norm1.bias\n",
      "layers.1.blocks.1.attn.relative_position_bias_table\n",
      "layers.1.blocks.1.attn.relative_position_index\n",
      "layers.1.blocks.1.attn.qkv.weight\n",
      "layers.1.blocks.1.attn.qkv.bias\n",
      "layers.1.blocks.1.attn.proj.weight\n",
      "layers.1.blocks.1.attn.proj.bias\n",
      "layers.1.blocks.1.norm2.weight\n",
      "layers.1.blocks.1.norm2.bias\n",
      "layers.1.blocks.1.mlp.fc1.weight\n",
      "layers.1.blocks.1.mlp.fc1.bias\n",
      "layers.1.blocks.1.mlp.fc2.weight\n",
      "layers.1.blocks.1.mlp.fc2.bias\n",
      "layers.1.downsample.reduction.weight\n",
      "layers.1.downsample.norm.weight\n",
      "layers.1.downsample.norm.bias\n",
      "layers.2.blocks.0.norm1.weight\n",
      "layers.2.blocks.0.norm1.bias\n",
      "layers.2.blocks.0.attn.relative_position_bias_table\n",
      "layers.2.blocks.0.attn.relative_position_index\n",
      "layers.2.blocks.0.attn.qkv.weight\n",
      "layers.2.blocks.0.attn.qkv.bias\n",
      "layers.2.blocks.0.attn.proj.weight\n",
      "layers.2.blocks.0.attn.proj.bias\n",
      "layers.2.blocks.0.norm2.weight\n",
      "layers.2.blocks.0.norm2.bias\n",
      "layers.2.blocks.0.mlp.fc1.weight\n",
      "layers.2.blocks.0.mlp.fc1.bias\n",
      "layers.2.blocks.0.mlp.fc2.weight\n",
      "layers.2.blocks.0.mlp.fc2.bias\n",
      "layers.2.blocks.1.norm1.weight\n",
      "layers.2.blocks.1.norm1.bias\n",
      "layers.2.blocks.1.attn.relative_position_bias_table\n",
      "layers.2.blocks.1.attn.relative_position_index\n",
      "layers.2.blocks.1.attn.qkv.weight\n",
      "layers.2.blocks.1.attn.qkv.bias\n",
      "layers.2.blocks.1.attn.proj.weight\n",
      "layers.2.blocks.1.attn.proj.bias\n",
      "layers.2.blocks.1.norm2.weight\n",
      "layers.2.blocks.1.norm2.bias\n",
      "layers.2.blocks.1.mlp.fc1.weight\n",
      "layers.2.blocks.1.mlp.fc1.bias\n",
      "layers.2.blocks.1.mlp.fc2.weight\n",
      "layers.2.blocks.1.mlp.fc2.bias\n",
      "layers.2.blocks.2.norm1.weight\n",
      "layers.2.blocks.2.norm1.bias\n",
      "layers.2.blocks.2.attn.relative_position_bias_table\n",
      "layers.2.blocks.2.attn.relative_position_index\n",
      "layers.2.blocks.2.attn.qkv.weight\n",
      "layers.2.blocks.2.attn.qkv.bias\n",
      "layers.2.blocks.2.attn.proj.weight\n",
      "layers.2.blocks.2.attn.proj.bias\n",
      "layers.2.blocks.2.norm2.weight\n",
      "layers.2.blocks.2.norm2.bias\n",
      "layers.2.blocks.2.mlp.fc1.weight\n",
      "layers.2.blocks.2.mlp.fc1.bias\n",
      "layers.2.blocks.2.mlp.fc2.weight\n",
      "layers.2.blocks.2.mlp.fc2.bias\n",
      "layers.2.blocks.3.norm1.weight\n",
      "layers.2.blocks.3.norm1.bias\n",
      "layers.2.blocks.3.attn.relative_position_bias_table\n",
      "layers.2.blocks.3.attn.relative_position_index\n",
      "layers.2.blocks.3.attn.qkv.weight\n",
      "layers.2.blocks.3.attn.qkv.bias\n",
      "layers.2.blocks.3.attn.proj.weight\n",
      "layers.2.blocks.3.attn.proj.bias\n",
      "layers.2.blocks.3.norm2.weight\n",
      "layers.2.blocks.3.norm2.bias\n",
      "layers.2.blocks.3.mlp.fc1.weight\n",
      "layers.2.blocks.3.mlp.fc1.bias\n",
      "layers.2.blocks.3.mlp.fc2.weight\n",
      "layers.2.blocks.3.mlp.fc2.bias\n",
      "layers.2.blocks.4.norm1.weight\n",
      "layers.2.blocks.4.norm1.bias\n",
      "layers.2.blocks.4.attn.relative_position_bias_table\n",
      "layers.2.blocks.4.attn.relative_position_index\n",
      "layers.2.blocks.4.attn.qkv.weight\n",
      "layers.2.blocks.4.attn.qkv.bias\n",
      "layers.2.blocks.4.attn.proj.weight\n",
      "layers.2.blocks.4.attn.proj.bias\n",
      "layers.2.blocks.4.norm2.weight\n",
      "layers.2.blocks.4.norm2.bias\n",
      "layers.2.blocks.4.mlp.fc1.weight\n",
      "layers.2.blocks.4.mlp.fc1.bias\n",
      "layers.2.blocks.4.mlp.fc2.weight\n",
      "layers.2.blocks.4.mlp.fc2.bias\n",
      "layers.2.blocks.5.norm1.weight\n",
      "layers.2.blocks.5.norm1.bias\n",
      "layers.2.blocks.5.attn.relative_position_bias_table\n",
      "layers.2.blocks.5.attn.relative_position_index\n",
      "layers.2.blocks.5.attn.qkv.weight\n",
      "layers.2.blocks.5.attn.qkv.bias\n",
      "layers.2.blocks.5.attn.proj.weight\n",
      "layers.2.blocks.5.attn.proj.bias\n",
      "layers.2.blocks.5.norm2.weight\n",
      "layers.2.blocks.5.norm2.bias\n",
      "layers.2.blocks.5.mlp.fc1.weight\n",
      "layers.2.blocks.5.mlp.fc1.bias\n",
      "layers.2.blocks.5.mlp.fc2.weight\n",
      "layers.2.blocks.5.mlp.fc2.bias\n",
      "layers.2.downsample.reduction.weight\n",
      "layers.2.downsample.norm.weight\n",
      "layers.2.downsample.norm.bias\n",
      "layers.3.blocks.0.norm1.weight\n",
      "layers.3.blocks.0.norm1.bias\n",
      "layers.3.blocks.0.attn.relative_position_bias_table\n",
      "layers.3.blocks.0.attn.relative_position_index\n",
      "layers.3.blocks.0.attn.qkv.weight\n",
      "layers.3.blocks.0.attn.qkv.bias\n",
      "layers.3.blocks.0.attn.proj.weight\n",
      "layers.3.blocks.0.attn.proj.bias\n",
      "layers.3.blocks.0.norm2.weight\n",
      "layers.3.blocks.0.norm2.bias\n",
      "layers.3.blocks.0.mlp.fc1.weight\n",
      "layers.3.blocks.0.mlp.fc1.bias\n",
      "layers.3.blocks.0.mlp.fc2.weight\n",
      "layers.3.blocks.0.mlp.fc2.bias\n",
      "layers.3.blocks.1.norm1.weight\n",
      "layers.3.blocks.1.norm1.bias\n",
      "layers.3.blocks.1.attn.relative_position_bias_table\n",
      "layers.3.blocks.1.attn.relative_position_index\n",
      "layers.3.blocks.1.attn.qkv.weight\n",
      "layers.3.blocks.1.attn.qkv.bias\n",
      "layers.3.blocks.1.attn.proj.weight\n",
      "layers.3.blocks.1.attn.proj.bias\n",
      "layers.3.blocks.1.norm2.weight\n",
      "layers.3.blocks.1.norm2.bias\n",
      "layers.3.blocks.1.mlp.fc1.weight\n",
      "layers.3.blocks.1.mlp.fc1.bias\n",
      "layers.3.blocks.1.mlp.fc2.weight\n",
      "layers.3.blocks.1.mlp.fc2.bias\n",
      "norm.weight\n",
      "norm.bias\n",
      "head.weight\n",
      "head.bias\n"
     ]
    }
   ],
   "source": [
    "print(\"\\n\".join(ckpt['model'].keys()))"
   ]
  },
  {
   "cell_type": "code",
   "execution_count": null,
   "metadata": {},
   "outputs": [],
   "source": []
  }
 ],
 "metadata": {
  "kernelspec": {
   "display_name": "scalemae",
   "language": "python",
   "name": "python3"
  },
  "language_info": {
   "codemirror_mode": {
    "name": "ipython",
    "version": 3
   },
   "file_extension": ".py",
   "mimetype": "text/x-python",
   "name": "python",
   "nbconvert_exporter": "python",
   "pygments_lexer": "ipython3",
   "version": "3.9.16"
  },
  "orig_nbformat": 4
 },
 "nbformat": 4,
 "nbformat_minor": 2
}
