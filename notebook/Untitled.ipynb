{
 "cells": [
  {
   "cell_type": "code",
   "execution_count": 1,
   "id": "10d90ea9",
   "metadata": {},
   "outputs": [],
   "source": [
    "%load_ext autoreload\n",
    "%autoreload 2"
   ]
  },
  {
   "cell_type": "code",
   "execution_count": 3,
   "id": "253a4555",
   "metadata": {},
   "outputs": [],
   "source": [
    "import sys\n",
    "sys.path.append('/home/jacklishufan/xView3_second_place/')"
   ]
  },
  {
   "cell_type": "code",
   "execution_count": 35,
   "id": "cfaddbfe",
   "metadata": {},
   "outputs": [],
   "source": [
    "from zoo.swin import swinv2_tiny_window16_256_xview\n",
    "import torch"
   ]
  },
  {
   "cell_type": "code",
   "execution_count": 44,
   "id": "2a329981",
   "metadata": {
    "scrolled": false
   },
   "outputs": [],
   "source": [
    "model = swinv2_tiny_window16_256_xview(\"/shared/jacklishufan/large-image-models/swin_tiny_w16_256_pretrained.pth\",img_size=256)"
   ]
  },
  {
   "cell_type": "code",
   "execution_count": 45,
   "id": "dd60d605",
   "metadata": {},
   "outputs": [
    {
     "data": {
      "text/plain": [
       "[{'num_chs': 96, 'reduction': 2, 'module': 'patch_embed'},\n",
       " {'num_chs': 192, 'reduction': 4, 'module': 'layers.0'},\n",
       " {'num_chs': 384, 'reduction': 8, 'module': 'layers.1'},\n",
       " {'num_chs': 768, 'reduction': 16, 'module': 'layers.2'},\n",
       " {'num_chs': 768, 'reduction': 32, 'module': 'layers.3'}]"
      ]
     },
     "execution_count": 45,
     "metadata": {},
     "output_type": "execute_result"
    }
   ],
   "source": [
    "model.feature_info"
   ]
  },
  {
   "cell_type": "code",
   "execution_count": 46,
   "id": "1d66fd9e",
   "metadata": {},
   "outputs": [],
   "source": [
    "x = torch.rand(1,3,256,256)"
   ]
  },
  {
   "cell_type": "code",
   "execution_count": 47,
   "id": "c52d4d43",
   "metadata": {},
   "outputs": [
    {
     "data": {
      "text/plain": [
       "[torch.Size([1, 96, 128, 128]),\n",
       " torch.Size([1, 192, 64, 64]),\n",
       " torch.Size([1, 384, 32, 32]),\n",
       " torch.Size([1, 768, 16, 16]),\n",
       " torch.Size([1, 768, 8, 8])]"
      ]
     },
     "execution_count": 47,
     "metadata": {},
     "output_type": "execute_result"
    }
   ],
   "source": [
    "[y.shape for y in model(x)]"
   ]
  },
  {
   "cell_type": "code",
   "execution_count": null,
   "id": "f7ad1b68",
   "metadata": {},
   "outputs": [],
   "source": []
  }
 ],
 "metadata": {
  "kernelspec": {
   "display_name": "Python 3 (ipykernel)",
   "language": "python",
   "name": "python3"
  },
  "language_info": {
   "codemirror_mode": {
    "name": "ipython",
    "version": 3
   },
   "file_extension": ".py",
   "mimetype": "text/x-python",
   "name": "python",
   "nbconvert_exporter": "python",
   "pygments_lexer": "ipython3",
   "version": "3.10.4"
  }
 },
 "nbformat": 4,
 "nbformat_minor": 5
}
